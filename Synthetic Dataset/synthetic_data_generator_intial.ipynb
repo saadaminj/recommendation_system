{
 "cells": [
  {
   "cell_type": "code",
   "execution_count": 2,
   "id": "8a63cd50",
   "metadata": {
    "scrolled": true
   },
   "outputs": [
    {
     "name": "stdout",
     "output_type": "stream",
     "text": [
      "Collecting faker\n",
      "  Downloading Faker-16.6.1-py3-none-any.whl (1.7 MB)\n",
      "     ---------------------------------------- 1.7/1.7 MB 21.3 MB/s eta 0:00:00\n",
      "Requirement already satisfied: python-dateutil>=2.4 in c:\\programdata\\miniconda3\\envs\\tf\\lib\\site-packages (from faker) (2.8.2)\n",
      "Requirement already satisfied: six>=1.5 in c:\\programdata\\miniconda3\\envs\\tf\\lib\\site-packages (from python-dateutil>=2.4->faker) (1.16.0)\n",
      "Installing collected packages: faker\n",
      "Successfully installed faker-16.6.1\n",
      "Note: you may need to restart the kernel to use updated packages.\n"
     ]
    }
   ],
   "source": [
    "pip install faker"
   ]
  },
  {
   "cell_type": "code",
   "execution_count": 3,
   "id": "f6f9717d",
   "metadata": {},
   "outputs": [],
   "source": [
    "from faker import Faker"
   ]
  },
  {
   "cell_type": "code",
   "execution_count": 4,
   "id": "0e6270b2",
   "metadata": {},
   "outputs": [
    {
     "name": "stdout",
     "output_type": "stream",
     "text": [
      "Vanessa Mathis\n"
     ]
    }
   ],
   "source": [
    "fake = Faker()\n",
    "print(fake.name())"
   ]
  },
  {
   "cell_type": "code",
   "execution_count": 5,
   "id": "b3c20afa",
   "metadata": {},
   "outputs": [
    {
     "data": {
      "text/plain": [
       "'1980-04-14'"
      ]
     },
     "execution_count": 5,
     "metadata": {},
     "output_type": "execute_result"
    }
   ],
   "source": [
    "fake.date()"
   ]
  },
  {
   "cell_type": "code",
   "execution_count": 6,
   "id": "6b5db33b",
   "metadata": {},
   "outputs": [
    {
     "ename": "NameError",
     "evalue": "name 'datetime' is not defined",
     "output_type": "error",
     "traceback": [
      "\u001b[1;31m---------------------------------------------------------------------------\u001b[0m",
      "\u001b[1;31mNameError\u001b[0m                                 Traceback (most recent call last)",
      "Cell \u001b[1;32mIn[6], line 1\u001b[0m\n\u001b[1;32m----> 1\u001b[0m fake\u001b[38;5;241m.\u001b[39mdate_between_dates(date_start\u001b[38;5;241m=\u001b[39m\u001b[43mdatetime\u001b[49m(\u001b[38;5;241m2015\u001b[39m,\u001b[38;5;241m1\u001b[39m,\u001b[38;5;241m1\u001b[39m), date_end\u001b[38;5;241m=\u001b[39mdatetime(\u001b[38;5;241m2019\u001b[39m,\u001b[38;5;241m12\u001b[39m,\u001b[38;5;241m31\u001b[39m))\n",
      "\u001b[1;31mNameError\u001b[0m: name 'datetime' is not defined"
     ]
    }
   ],
   "source": [
    "fake.date_between_dates(date_start=datetime(2015,1,1), date_end=datetime(2019,12,31))"
   ]
  },
  {
   "cell_type": "code",
   "execution_count": null,
   "id": "4dec5c7b",
   "metadata": {},
   "outputs": [],
   "source": [
    "print(f'a word: {fake.word()}')\n",
    "print(f'six words: {fake.words(6)}')\n",
    "\n",
    "words = ['forest', 'blue', 'cloud', 'sky', 'wood', 'falcon']\n",
    "print(f'six words: {fake.words(6)}')"
   ]
  },
  {
   "cell_type": "code",
   "execution_count": null,
   "id": "8439d36c",
   "metadata": {},
   "outputs": [],
   "source": [
    "print(f'Random int: {fake.random_int(1, 210)}')"
   ]
  },
  {
   "cell_type": "code",
   "execution_count": null,
   "id": "c15541d2",
   "metadata": {},
   "outputs": [],
   "source": [
    "word_list = [\"DataCamp\", \"says\", \"great\", \"loves\", \"tutorial\", \"workplace\"]\n",
    "\n",
    "for i in range(0, 5):\n",
    "    print(fake.sentence(nb_words=1,ext_word_list=word_list))"
   ]
  },
  {
   "cell_type": "code",
   "execution_count": 7,
   "id": "23a0031f",
   "metadata": {},
   "outputs": [
    {
     "name": "stdout",
     "output_type": "stream",
     "text": [
      "['1', '2', '3', '4', '5', '6', '7', '8', '9', '10', '11', '12', '13', '14', '15', '16', '17', '18', '19', '20', '21', '22', '23', '24', '25', '26', '27', '28', '29', '30', '31', '32', '33', '34', '35', '36', '37', '38', '39', '40', '41', '42', '43', '44', '45', '46', '47', '48', '49', '50', '51', '52', '53', '54', '55', '56', '57', '58', '59', '60', '61', '62', '63', '64', '65', '66', '67', '68', '69', '70', '71', '72', '73', '74', '75', '76', '77', '78', '79', '80', '81', '82', '83', '84', '85', '86', '87', '88', '89', '90', '91', '92', '93', '94', '95', '96', '97', '98', '99', '100', '101', '102', '103', '104', '105', '106', '107', '108', '109', '110', '111', '112', '113', '114', '115', '116', '117', '118', '119', '120', '121', '122', '123', '124', '125', '126', '127', '128', '129', '130', '131', '132', '133', '134', '135', '136', '137', '138', '139', '140', '141', '142', '143', '144', '145', '146', '147', '148', '149', '150', '151', '152', '153', '154', '155', '156', '157', '158', '159', '160', '161', '162', '163', '164', '165', '166', '167', '168', '169', '170', '171', '172', '173', '174', '175', '176', '177', '178', '179', '180', '181', '182', '183', '184', '185', '186', '187', '188', '189', '190', '191', '192', '193', '194', '195', '196', '197', '198', '199', '200', '201', '202', '203', '204', '205', '206', '207', '208', '209', '210']\n"
     ]
    }
   ],
   "source": [
    "p_id = []\n",
    "for i in range(1,211):\n",
    "    j = str(i)\n",
    "    p_id.append(j)\n",
    "\n",
    "print(p_id)"
   ]
  },
  {
   "cell_type": "code",
   "execution_count": 8,
   "id": "c420c1be",
   "metadata": {},
   "outputs": [
    {
     "name": "stdout",
     "output_type": "stream",
     "text": [
      "90.\n",
      "135.\n",
      "107.\n",
      "71.\n",
      "210.\n"
     ]
    }
   ],
   "source": [
    "for i in range(0, 5):\n",
    "    print(fake.sentence(nb_words=1,ext_word_list=p_id))"
   ]
  },
  {
   "cell_type": "code",
   "execution_count": null,
   "id": "538416e9",
   "metadata": {},
   "outputs": [],
   "source": []
  },
  {
   "cell_type": "code",
   "execution_count": null,
   "id": "62850178",
   "metadata": {},
   "outputs": [],
   "source": [
    "from random import randint\n",
    "import pandas as pd\n",
    "\n",
    "csv_file = pd.read_csv(\"nosh_purchase_data.csv\")\n",
    "csv_file.head()"
   ]
  },
  {
   "cell_type": "code",
   "execution_count": null,
   "id": "f99bd946",
   "metadata": {},
   "outputs": [],
   "source": [
    "csv_file.info()"
   ]
  },
  {
   "cell_type": "code",
   "execution_count": null,
   "id": "8c27e5ed",
   "metadata": {},
   "outputs": [],
   "source": [
    "import random\n",
    "import re\n",
    "#print(random.randint(7,8))\n",
    "def anonymous(df):\n",
    "    uni_id = df.product_id_purchased.dropna().unique()\n",
    "    #print('uni: ',uni_id)\n",
    "    \n",
    "    \n",
    "    for x in range(1,10):\n",
    "        temp_count = x\n",
    "        print(\"outside: \",temp_count)\n",
    "        count = random.randint(4,5)\n",
    "        Customer_name = fake.name()\n",
    "        w= x+1\n",
    "        for i in range(count):\n",
    "            print('i: ',i)\n",
    "            #hype = []\n",
    "            p_id_insert = fake.sentence(nb_words=1,ext_word_list=p_id)\n",
    "            res = re.sub(r'[^\\w\\s]', '', p_id_insert)\n",
    "            #print(p_id_insert)\n",
    "            #print('res: ',res)\n",
    "            #print('TYPE: ',type(res))\n",
    "            print('Customer_name:',Customer_name)\n",
    "            print('product_id_purchased: ',res)\n",
    "            #df.insert(column='customer_name', value=Customer_name)\n",
    "            #df.insert(column='product_id_purchased', value=res_final)\n",
    "            df.loc[x,\"customer_id\"] = x\n",
    "            #hype.append(customer_id)\n",
    "            df.loc[x,\"customer_name\"] = Customer_name\n",
    "            #hype.append(customer_name)\n",
    "            df.loc[x,\"product_id_purchased\"] = int(res) \n",
    "            #hype.append(int(res))\n",
    "            #hype.append(x)\n",
    "            temp_count = i\n",
    "            print(\"inside: \",temp_count)\n",
    "            #df = df.append({'Customer_name':Customer_name, 'product_id_purchased':int(res), 'invoice_id':x}, ignore_index=True)\n",
    "        x = temp_count\n",
    "        print(\"x: \",x)\n",
    "        #print('len:', len(df))\n",
    "        #df.loc[w,\"invoice_id\"] = x \n",
    "        \n",
    "    \n",
    "    return df\n",
    "xyz = anonymous(csv_file)\n",
    "xyz.head()\n",
    "print(xyz)\n",
    "\n",
    "temp = pd.DataFrame(xyz)\n",
    "temp.to_csv('temp_output.csv')\n"
   ]
  },
  {
   "cell_type": "code",
   "execution_count": null,
   "id": "964b27d7",
   "metadata": {},
   "outputs": [],
   "source": [
    "xyz.head()"
   ]
  },
  {
   "cell_type": "code",
   "execution_count": null,
   "id": "035877a8",
   "metadata": {},
   "outputs": [],
   "source": [
    "import random\n",
    "import re\n",
    "#print(random.randint(7,8))\n",
    "def anonymous(df):\n",
    "    \n",
    "    \n",
    "    #min_year=2022\n",
    "    #max_year=datetime.now().year\n",
    "    #start = datetime(min_year, 1, 1, 00, 00, 00)\n",
    "    #years = max_year - min_year + 1\n",
    "    #end = start + timedelta(days=365 * years)\n",
    "    #dates = start + (end - start) * random.random()\n",
    "    #print('dates: ',dates)\n",
    "    #print(type(dates))\n",
    "    \n",
    "    #uni_id = df.product_id_purchased.dropna().unique()\n",
    "    #print('uni: ',uni_id)\n",
    "    #new_df = df.copy()\n",
    "    new_df = pd.DataFrame()\n",
    "    print(new_df)\n",
    "    names = []\n",
    "    pp_id = []\n",
    "    indexing = []\n",
    "    c_id = []\n",
    "    purchase_date = []\n",
    "    index = 1\n",
    "    for x in range(1,21000):\n",
    "        #index = i\n",
    "        #temp_count = x\n",
    "        #print(\"outside: \",temp_count)\n",
    "        count = random.randint(3,9)\n",
    "        Customer_name = fake.name()\n",
    "        w= x+1\n",
    "        for i in range(count):\n",
    "            #print('i: ',i)\n",
    "            #hype = []\n",
    "            p_id_insert = fake.sentence(nb_words=1,ext_word_list=p_id)\n",
    "            res = re.sub(r'[^\\w\\s]', '', p_id_insert)\n",
    "            names.append(Customer_name)\n",
    "            pp_id.append(int(res))\n",
    "            c_id.append(x)\n",
    "            \n",
    "            min_year=2022\n",
    "            max_year=datetime.now().year\n",
    "            start = datetime(min_year, 1, 1, 00, 00, 00)\n",
    "            years = max_year - min_year + 1\n",
    "            end = start + timedelta(days=365 * years)\n",
    "            dates = start + (end - start) * random.random()\n",
    "            #print('dates: ',dates)\n",
    "            #print(type(dates))\n",
    "            \n",
    "            purchase_date.append(dates)\n",
    "            #print(p_id_insert)\n",
    "            #print('res: ',res)\n",
    "            #print('TYPE: ',type(res))\n",
    "            #print('Customer_name:',Customer_name)\n",
    "            #print('product_id_purchased: ',res)\n",
    "            #df.insert(column='customer_name', value=Customer_name)\n",
    "            #df.insert(column='product_id_purchased', value=res_final)\n",
    "            #df.loc[x,\"customer_id\"] = x\n",
    "            #hype.append(customer_id)\n",
    "            #df.loc[x,\"customer_name\"] = Customer_name\n",
    "            #hype.append(customer_name)\n",
    "            #df.loc[x,\"product_id_purchased\"] = int(res) \n",
    "            #hype.append(int(res))\n",
    "            #hype.append(x)\n",
    "            #temp_count = i\n",
    "            #print(\"inside: \",temp_count)\n",
    "            #df = df.append({'Customer_name':Customer_name, 'product_id_purchased':int(res), 'invoice_id':x}, ignore_index=True)\n",
    "        \n",
    "            indexing.append(index)\n",
    "            index = index+1\n",
    "            #print('meh: ',indexing)\n",
    "        #print(len(names))\n",
    "    #print('Indexing: ',indexing)\n",
    "    #pd.Series(names)\n",
    "    new_df.insert(loc=0,column='customer_id',value=c_id )\n",
    "    new_df.insert(loc=1,column='customer_name',value=names )\n",
    "    new_df.insert(loc=2,column='product_id_purchased',value=pp_id )\n",
    "    new_df.insert(loc=3,column='purchase_date_time',value=purchase_date )\n",
    "    new_df.insert(loc=4,column='invoice_id',value=indexing )\n",
    "        #x = temp_count\n",
    "        #print(\"x: \",x)\n",
    "        #print('len:', len(df))\n",
    "        #df.loc[w,\"invoice_id\"] = x \n",
    "        \n",
    "    \n",
    "    return new_df\n",
    "xyz = anonymous(csv_file)\n",
    "xyz.head()\n",
    "#print(xyz)\n",
    "\n",
    "temp = pd.DataFrame(xyz)\n",
    "temp.to_csv('temp_output.csv',index=False)\n",
    "xyz.info()\n"
   ]
  },
  {
   "cell_type": "code",
   "execution_count": null,
   "id": "d1fbf42c",
   "metadata": {},
   "outputs": [],
   "source": [
    "pip install randomtimestamp"
   ]
  },
  {
   "cell_type": "code",
   "execution_count": null,
   "id": "d16bca09",
   "metadata": {},
   "outputs": [],
   "source": [
    "import random\n",
    "from datetime import datetime, timedelta\n",
    "\n",
    "min_year=2022\n",
    "max_year=datetime.now().year\n",
    "\n",
    "start = datetime(min_year, 1, 1, 00, 00, 00)\n",
    "years = max_year - min_year+1\n",
    "end = start + timedelta(days=365 * years)\n",
    "print(end)\n",
    "for i in range(10):\n",
    "    random_date = start + (end - start) * random.random()\n",
    "    print(random_date)\n",
    "\n",
    "#done\n",
    "\n",
    "# or a function\n",
    "def gen_datetime(min_year=1900, max_year=datetime.now().year):\n",
    "    # generate a datetime in format yyyy-mm-dd hh:mm:ss.000000\n",
    "    start = datetime(min_year, 1, 1, 00, 00, 00)\n",
    "    years = max_year - min_year + 1\n",
    "    end = start + timedelta(days=365 * years)\n",
    "    return start + (end - start) * random.random()"
   ]
  },
  {
   "cell_type": "code",
   "execution_count": null,
   "id": "e7f86431",
   "metadata": {},
   "outputs": [],
   "source": []
  },
  {
   "cell_type": "code",
   "execution_count": null,
   "id": "d351cb81",
   "metadata": {},
   "outputs": [],
   "source": [
    "import matplotlib.pyplot as plt\n",
    "df  = pd.read_csv(\"temp_output.csv\")\n",
    "\n",
    "df.plot.scatter(x = 'customer_id',y= 'product_id_purchased', s = 0.5,colormap='viridis');\n",
    "#df.plot()  # plots all columns against index\n",
    "#df.plot(kind='scatter',x='x',y='y') # scatter plot\n",
    "#df.plot(kind='density')  # estimate density function\n",
    "# df.plot(kind='hist')  # histogram"
   ]
  },
  {
   "cell_type": "code",
   "execution_count": null,
   "id": "422d6c7b",
   "metadata": {},
   "outputs": [],
   "source": [
    "random_df = df.sample(n=1000)\n",
    "random_df.info()\n",
    "random_df.head()\n",
    "random_df.duplicated()"
   ]
  },
  {
   "cell_type": "code",
   "execution_count": null,
   "id": "dc55e2c5",
   "metadata": {},
   "outputs": [],
   "source": [
    "random_df.plot.scatter(x = 'customer_id',y= 'product_id_purchased', s = 0.5,colormap='viridis');\n",
    "random_df.hist()"
   ]
  },
  {
   "cell_type": "code",
   "execution_count": null,
   "id": "058a2e98",
   "metadata": {},
   "outputs": [],
   "source": [
    "import matplotlib.pyplot as plt\n",
    "plt.figure(figsize=(10, 10))\n",
    "plt.scatter(random_df.customer_id,random_df.product_id_purchased, c='green', s=70, alpha=0.5)\n",
    "#plt.title(\"title\")\n",
    "plt.xlabel(\"customer_id\")\n",
    "plt.ylabel(\"product_id_purchased\")\n"
   ]
  },
  {
   "cell_type": "code",
   "execution_count": null,
   "id": "f351a580",
   "metadata": {},
   "outputs": [],
   "source": [
    "#For 300k Data\n",
    "\n",
    "#temp.hist()\n",
    "#df.plot.line(x = 'customer_id',y= 'product_id_purchased')"
   ]
  },
  {
   "cell_type": "code",
   "execution_count": null,
   "id": "64b94184",
   "metadata": {},
   "outputs": [],
   "source": [
    "    min_year=2022\n",
    "    max_year=datetime.now().year\n",
    "    start = datetime(min_year, 1, 1, 00, 00, 00)\n",
    "    years = max_year - min_year + 1\n",
    "    end = start + timedelta(days=365 * years)\n",
    "    dates = start + (end - start) * random.random()\n",
    "    print('dates: ',dates)\n",
    "    print(type(dates))"
   ]
  },
  {
   "cell_type": "code",
   "execution_count": null,
   "id": "8c7d5c1b",
   "metadata": {},
   "outputs": [],
   "source": [
    "male_female_flag = random.randint(0,1)\n",
    "print(male_female_flag)\n",
    "if male_female_flag == 0:\n",
    "    print(fake.name_female())\n",
    "else:\n",
    "    print(fake.name_male())"
   ]
  },
  {
   "cell_type": "code",
   "execution_count": null,
   "id": "4a40e3ef",
   "metadata": {},
   "outputs": [],
   "source": [
    "import seaborn as sns\n",
    "import numpy as np \n",
    "#%matplotlib inline\n",
    "\n",
    "#df = pd(2, index='customer_id', columns='product_id_purchased')\n",
    "#\n",
    "#sns.heatmap(df, annot=True)\n",
    "\n",
    "df = pd.DataFrame(abs(np.random.randn(5, 4)), index='c_id', columns='pp_id')\n",
    "df.style.background_gradient(cmap='Blues')"
   ]
  },
  {
   "cell_type": "code",
   "execution_count": null,
   "id": "f1a3e735",
   "metadata": {},
   "outputs": [],
   "source": []
  }
 ],
 "metadata": {
  "kernelspec": {
   "display_name": "Python 3 (ipykernel)",
   "language": "python",
   "name": "python3"
  },
  "language_info": {
   "codemirror_mode": {
    "name": "ipython",
    "version": 3
   },
   "file_extension": ".py",
   "mimetype": "text/x-python",
   "name": "python",
   "nbconvert_exporter": "python",
   "pygments_lexer": "ipython3",
   "version": "3.9.13"
  }
 },
 "nbformat": 4,
 "nbformat_minor": 5
}
